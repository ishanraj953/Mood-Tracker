{
 "cells": [
  {
   "cell_type": "markdown",
   "id": "0709fbf1",
   "metadata": {},
   "source": [
    "# Stress & Anxiety Detection from Chat - AI Project"
   ]
  },
  {
   "cell_type": "code",
   "execution_count": null,
   "id": "39576ae4",
   "metadata": {},
   "outputs": [],
   "source": [
    "# STEP 1: Import Required Packages\n",
    "import pandas as pd\n",
    "import numpy as np\n",
    "import re\n",
    "import nltk\n",
    "from nltk.corpus import stopwords\n",
    "\n",
    "from sklearn.model_selection import train_test_split\n",
    "from sklearn.feature_extraction.text import TfidfVectorizer\n",
    "from sklearn.linear_model import LogisticRegression\n",
    "from sklearn.metrics import classification_report\n",
    "\n",
    "nltk.download('stopwords')"
   ]
  },
  {
   "cell_type": "code",
   "execution_count": null,
   "id": "1173f395",
   "metadata": {},
   "outputs": [],
   "source": [
    "# STEP 2: Upload CSV File\n",
    "from google.colab import files\n",
    "uploaded = files.upload()"
   ]
  },
  {
   "cell_type": "code",
   "execution_count": null,
   "id": "e04c2f52",
   "metadata": {},
   "outputs": [],
   "source": [
    "# STEP 3: Load and View Dataset\n",
    "df = pd.read_csv('stress_chat_dataset.csv')\n",
    "df.head()"
   ]
  },
  {
   "cell_type": "code",
   "execution_count": null,
   "id": "64367d47",
   "metadata": {},
   "outputs": [],
   "source": [
    "# STEP 4: Preprocess Text Data\n",
    "def preprocess(text):\n",
    "    text = text.lower()\n",
    "    text = re.sub(r'[^a-z\\s]', '', text)\n",
    "    stop_words = set(stopwords.words('english'))\n",
    "    tokens = [word for word in text.split() if word not in stop_words]\n",
    "    return \" \".join(tokens)\n",
    "\n",
    "df['clean_text'] = df['text'].apply(preprocess)\n",
    "df[['text', 'clean_text', 'label']].head()"
   ]
  },
  {
   "cell_type": "code",
   "execution_count": null,
   "id": "47f2bba4",
   "metadata": {},
   "outputs": [],
   "source": [
    "# STEP 5: Convert Text to TF-IDF Features\n",
    "vectorizer = TfidfVectorizer()\n",
    "X = vectorizer.fit_transform(df['clean_text'])\n",
    "y = df['label']"
   ]
  },
  {
   "cell_type": "code",
   "execution_count": null,
   "id": "92c25a7f",
   "metadata": {},
   "outputs": [],
   "source": [
    "# STEP 6: Split Data into Training and Test Sets\n",
    "X_train, X_test, y_train, y_test = train_test_split(\n",
    "    X, y, test_size=0.2, random_state=42\n",
    ")"
   ]
  },
  {
   "cell_type": "code",
   "execution_count": null,
   "id": "04796c67",
   "metadata": {},
   "outputs": [],
   "source": [
    "# STEP 7: Train the Logistic Regression Model\n",
    "model = LogisticRegression()\n",
    "model.fit(X_train, y_train)"
   ]
  },
  {
   "cell_type": "code",
   "execution_count": null,
   "id": "dd13b6b7",
   "metadata": {},
   "outputs": [],
   "source": [
    "# STEP 8: Evaluate Model Performance\n",
    "y_pred = model.predict(X_test)\n",
    "print(classification_report(y_test, y_pred))"
   ]
  },
  {
   "cell_type": "code",
   "execution_count": null,
   "id": "949de3f8",
   "metadata": {},
   "outputs": [],
   "source": [
    "# STEP 9: Predict Stress from New Chat Input\n",
    "def predict_message(message):\n",
    "    msg = preprocess(message)\n",
    "    vec = vectorizer.transform([msg])\n",
    "    prediction = model.predict(vec)\n",
    "    return \"😟 Stressed\" if prediction[0] == 1 else \"🙂 Normal\"\n",
    "\n",
    "# Test predictions\n",
    "print(predict_message(\"I feel so tired and worried\"))\n",
    "print(predict_message(\"Everything is awesome today!\"))"
   ]
  }
 ],
 "metadata": {},
 "nbformat": 4,
 "nbformat_minor": 5
}
